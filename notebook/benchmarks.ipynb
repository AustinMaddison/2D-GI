{
 "cells": [
  {
   "cell_type": "code",
   "execution_count": 5,
   "metadata": {},
   "outputs": [],
   "source": [
    "import numpy as np\n",
    "import matplotlib.pyplot as plt"
   ]
  },
  {
   "cell_type": "code",
   "execution_count": null,
   "metadata": {},
   "outputs": [],
   "source": [
    "data = [\n",
    "    {\n",
    "        'scene': 'shapes', \n",
    "        'probe_n': 0, \n",
    "        'sps': 78\n",
    "    },\n",
    "    {\n",
    "        'scene': 'echo', \n",
    "        'probe_n': 0,\n",
    "        'sps': 0\n",
    "    },\n",
    "    {\n",
    "        'scene': 'room_closed', \n",
    "        'probe_n': 0, \n",
    "        'sps': 0\n",
    "    },\n",
    "    {\n",
    "        'scene': 'room_open', \n",
    "        'probe_n': 0, \n",
    "        'sps': 0\n",
    "    }\n",
    "]"
   ]
  },
  {
   "cell_type": "code",
   "execution_count": null,
   "metadata": {},
   "outputs": [],
   "source": []
  },
  {
   "cell_type": "code",
   "execution_count": 6,
   "metadata": {},
   "outputs": [
    {
     "data": {
      "image/png": "[encoded data removed]",
      "text/plain": [
       "<Figure size 640x480 with 1 Axes>"
      ]
     },
     "metadata": {},
     "output_type": "display_data"
    }
   ],
   "source": [
    "def image_to_2D_angle(image):\n",
    "\n",
    "    angles = np.zeros((image.shape[0], image.shape[1]))\n",
    "    for i in range(image.shape[0]):\n",
    "        for j in range(image.shape[1]):\n",
    "            # get the RGB values\n",
    "            r =( image[i][j][0]*2.) - 1.\n",
    "            g =( image[i][j][1]*2.) - 1.\n",
    "\n",
    "            # get the angle\n",
    "            angle = np.arctan2(g, r) * 180 / np.pi\n",
    "            # store the angle\n",
    "            angles[i][j] = angle\n",
    "\n",
    "    return angles\n",
    "\n",
    "def plot_angle_histogram(angles):\n",
    "    plt.hist(angles.flatten(), density=True, bins=360, range=(-180, 180), color='k')\n",
    "    #label the axes\n",
    "    plt.xlabel(\"Angle (degrees)\")\n",
    "    plt.ylabel\n",
    "    (\"Frequency\")\n",
    "    #label the figure\n",
    "    plt.title(\"Histogram of 2D Angle\")\n",
    "    plt.show()\n",
    "\n",
    "# apply the functions\n",
    "image = plt.imread(\"snapshot_281_1024_125-2-6-1-36-51.png\")\n",
    "direction = image_to_2D_angle(image)\n",
    "plt.hist(direction.flatten(), density=True, bins=360, range=(-180, 180), color='k')\n",
    "#label the axes\n",
    "plt.xlabel(\"Angle (degrees)\")\n",
    "plt.ylabel\n",
    "(\"Frequency\")\n",
    "#label the figure\n",
    "plt.title(\"Histogram of 2D Angle\")\n",
    "plt.savefig(\"histogram1.png\")\n",
    "\n",
    "\n",
    "image = plt.imread(\"snapshot_470_1024_125-2-6-1-36-29.png\")\n",
    "direction = image_to_2D_angle(image)\n",
    "plt.hist(direction.flatten(), density=True, bins=360, range=(-180, 180), color='k')\n",
    "#label the axes\n",
    "plt.xlabel(\"Angle (degrees)\")\n",
    "plt.ylabel\n",
    "(\"Frequency\")\n",
    "#label the figure\n",
    "plt.title(\"Histogram of 2D Angle\")\n",
    "plt.savefig(\"histogram2.png\")\n"
   ]
  },
  {
   "cell_type": "code",
   "execution_count": null,
   "metadata": {},
   "outputs": [],
   "source": []
  }
 ],
 "metadata": {
  "kernelspec": {
   "display_name": "Python 3",
   "language": "python",
   "name": "python3"
  },
  "language_info": {
   "codemirror_mode": {
    "name": "ipython",
    "version": 3
   },
   "file_extension": ".py",
   "mimetype": "text/x-python",
   "name": "python",
   "nbconvert_exporter": "python",
   "pygments_lexer": "ipython3",
   "version": "3.12.7"
  }
 },
 "nbformat": 4,
 "nbformat_minor": 2
}
